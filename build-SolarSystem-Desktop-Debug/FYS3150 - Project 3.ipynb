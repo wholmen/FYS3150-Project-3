{
 "metadata": {
  "name": "FYS3150 - Project 3"
 },
 "nbformat": 3,
 "nbformat_minor": 0,
 "worksheets": [
  {
   "cells": [
    {
     "cell_type": "code",
     "collapsed": false,
     "input": [],
     "language": "python",
     "metadata": {},
     "outputs": []
    },
    {
     "cell_type": "code",
     "collapsed": false,
     "input": [
      "from pylab import *\n",
      "title = \"earth_sun.txt\"\n",
      "x,y,t = readfile(title)\n",
      "\n",
      "\n",
      "plot(x,y,'o')\n",
      "show()"
     ],
     "language": "python",
     "metadata": {},
     "outputs": [
      {
       "output_type": "display_data",
       "png": "[encoded data removed]"
      }
     ],
     "prompt_number": 39
    },
    {
     "cell_type": "code",
     "collapsed": false,
     "input": [],
     "language": "python",
     "metadata": {},
     "outputs": [],
     "prompt_number": 43
    },
    {
     "cell_type": "code",
     "collapsed": false,
     "input": [
      "def readfile(title):\n",
      "    infile = open(title,'r')\n",
      "    x = []; y = []; t = [];\n",
      "    for line in infile:\n",
      "        lsplit = line.split()\n",
      "        x.append(float(lsplit[0]))\n",
      "        y.append(float(lsplit[1]))\n",
      "        t.append(float(lsplit[2]))\n",
      "    infile.close()\n",
      "    return array(x),array(y),array(t)"
     ],
     "language": "python",
     "metadata": {},
     "outputs": [],
     "prompt_number": 1
    },
    {
     "cell_type": "code",
     "collapsed": false,
     "input": [],
     "language": "python",
     "metadata": {},
     "outputs": []
    }
   ],
   "metadata": {}
  }
 ]
}